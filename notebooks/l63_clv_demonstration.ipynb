{
 "cells": [
  {
   "attachments": {},
   "cell_type": "markdown",
   "metadata": {},
   "source": [
    "# Lyapunov Vectors in L63\n",
    "\n",
    "In this notebook we demonstrate how you can use chaos_explorer to compute Lyapunov exponents (LEs), backward Lyapunov vectors (BLVs) and covariant Lyapunov vectors in the Lorenz 63 (L63) model."
   ]
  },
  {
   "cell_type": "code",
   "execution_count": 8,
   "metadata": {},
   "outputs": [],
   "source": [
    "from chaos_explorer.models.l63 import l63, l63_jacobian\n",
    "from chaos_explorer.lyapunov.clvs import compute_clvs\n",
    "\n",
    "import numpy as np\n",
    "import xarray as xr"
   ]
  },
  {
   "cell_type": "code",
   "execution_count": 9,
   "metadata": {},
   "outputs": [
    {
     "name": "stdout",
     "output_type": "stream",
     "text": [
      "20230314114958|INFO|Starting BLV Transient.\n",
      "20230314115001|INFO|BLV Transient Done. Running Ginelli Algorithm Forward Steps.\n",
      "20230314115006|INFO|Forward Steps Done. Running Ginelli Algorithm Backward Steps.\n",
      "20230314115008|INFO|Results saved at lyapunov_data.\n"
     ]
    }
   ],
   "source": [
    "ic = np.array([1, 1, 1])\n",
    "compute_clvs(l63, l63_jacobian, np.array([1, 1, 1]), block_size=100, tau=0.1, clv_observation_steps=1000)"
   ]
  },
  {
   "cell_type": "code",
   "execution_count": 14,
   "metadata": {},
   "outputs": [
    {
     "name": "stdout",
     "output_type": "stream",
     "text": [
      "[ 9.03902706e-01  8.88819274e-03 -1.45681111e+01]\n",
      "<xarray.Dataset>\n",
      "Dimensions:     (time: 1001, le_index: 3, component: 3)\n",
      "Coordinates:\n",
      "  * time        (time) float64 0.0 0.1 0.2 0.3 0.4 ... 99.6 99.7 99.8 99.9 100.0\n",
      "  * component   (component) int32 1 2 3\n",
      "  * le_index    (le_index) int32 1 2 3\n",
      "Data variables:\n",
      "    CLV         (time, le_index, component) float64 dask.array<chunksize=(101, 3, 3), meta=np.ndarray>\n",
      "    BLV         (time, le_index, component) float64 dask.array<chunksize=(101, 3, 3), meta=np.ndarray>\n",
      "    trajectory  (time, component) float64 dask.array<chunksize=(101, 3), meta=np.ndarray>\n",
      "    FTCLE       (time, le_index) float64 dask.array<chunksize=(101, 3), meta=np.ndarray>\n",
      "    FTBLE       (time, le_index) float64 dask.array<chunksize=(101, 3), meta=np.ndarray>\n"
     ]
    }
   ],
   "source": [
    "ds = xr.open_mfdataset('lyapunov_data/*.nc')\n",
    "print(ds.FTCLE.mean(dim='time').values)\n",
    "print(ds)"
   ]
  }
 ],
 "metadata": {
  "kernelspec": {
   "display_name": "chaos_explorer",
   "language": "python",
   "name": "python3"
  },
  "language_info": {
   "codemirror_mode": {
    "name": "ipython",
    "version": 3
   },
   "file_extension": ".py",
   "mimetype": "text/x-python",
   "name": "python",
   "nbconvert_exporter": "python",
   "pygments_lexer": "ipython3",
   "version": "3.10.8"
  },
  "orig_nbformat": 4
 },
 "nbformat": 4,
 "nbformat_minor": 2
}
